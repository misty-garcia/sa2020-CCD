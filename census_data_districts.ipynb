{
 "cells": [
  {
   "cell_type": "markdown",
   "metadata": {},
   "source": [
    "# Census Data for San Antonio Districts"
   ]
  },
  {
   "cell_type": "code",
   "execution_count": 16,
   "metadata": {},
   "outputs": [],
   "source": [
    "import pandas as pd\n",
    "import numpy as np\n",
    "import re\n",
    "\n",
    "from ccd_functions import read_distict"
   ]
  },
  {
   "cell_type": "markdown",
   "metadata": {},
   "source": [
    "## District Data"
   ]
  },
  {
   "cell_type": "markdown",
   "metadata": {},
   "source": [
    "This sheet tells which district each census tract aligns with and what percentage of the district is included. District 0 are census tracts outside of San Antonio."
   ]
  },
  {
   "cell_type": "code",
   "execution_count": 17,
   "metadata": {},
   "outputs": [
    {
     "data": {
      "text/html": [
       "<div>\n",
       "<style scoped>\n",
       "    .dataframe tbody tr th:only-of-type {\n",
       "        vertical-align: middle;\n",
       "    }\n",
       "\n",
       "    .dataframe tbody tr th {\n",
       "        vertical-align: top;\n",
       "    }\n",
       "\n",
       "    .dataframe thead th {\n",
       "        text-align: right;\n",
       "    }\n",
       "</style>\n",
       "<table border=\"1\" class=\"dataframe\">\n",
       "  <thead>\n",
       "    <tr style=\"text-align: right;\">\n",
       "      <th></th>\n",
       "      <th>council</th>\n",
       "      <th>tract</th>\n",
       "      <th>acres</th>\n",
       "      <th>percent</th>\n",
       "    </tr>\n",
       "  </thead>\n",
       "  <tbody>\n",
       "    <tr>\n",
       "      <th>0</th>\n",
       "      <td>1.0</td>\n",
       "      <td>192000</td>\n",
       "      <td>279.510301</td>\n",
       "      <td>0.221309</td>\n",
       "    </tr>\n",
       "    <tr>\n",
       "      <th>1</th>\n",
       "      <td>1.0</td>\n",
       "      <td>191900</td>\n",
       "      <td>0.040449</td>\n",
       "      <td>0.000049</td>\n",
       "    </tr>\n",
       "    <tr>\n",
       "      <th>2</th>\n",
       "      <td>1.0</td>\n",
       "      <td>192300</td>\n",
       "      <td>283.763269</td>\n",
       "      <td>0.185373</td>\n",
       "    </tr>\n",
       "    <tr>\n",
       "      <th>3</th>\n",
       "      <td>1.0</td>\n",
       "      <td>192100</td>\n",
       "      <td>419.237682</td>\n",
       "      <td>0.572719</td>\n",
       "    </tr>\n",
       "    <tr>\n",
       "      <th>4</th>\n",
       "      <td>1.0</td>\n",
       "      <td>191304</td>\n",
       "      <td>550.822079</td>\n",
       "      <td>0.786238</td>\n",
       "    </tr>\n",
       "  </tbody>\n",
       "</table>\n",
       "</div>"
      ],
      "text/plain": [
       "   council   tract       acres   percent\n",
       "0      1.0  192000  279.510301  0.221309\n",
       "1      1.0  191900    0.040449  0.000049\n",
       "2      1.0  192300  283.763269  0.185373\n",
       "3      1.0  192100  419.237682  0.572719\n",
       "4      1.0  191304  550.822079  0.786238"
      ]
     },
     "execution_count": 17,
     "metadata": {},
     "output_type": "execute_result"
    }
   ],
   "source": [
    "dist = pd.read_excel('CMO_CDTractsPrecincts_May2023.xlsx')\n",
    "dist.columns = dist.columns.str.replace('\\n','')\\\n",
    "                .str.replace('\\(.+', '_', regex=True)\\\n",
    "                .str.lower().str.replace(' ', '_')\\\n",
    "                .str.strip('_')\n",
    "dist = dist[['council_district2023',\n",
    "             'tract_2010_id',\n",
    "             'council_district_2023',\n",
    "             'percentage_of_tract_2010_in_council_district_2023']]\n",
    "dist.columns = ['council','tract','acres','percent']\n",
    "dist = dist.iloc[1:].reset_index(drop=True)\n",
    "dist.tract = dist.tract.astype(str)\n",
    "dist.council = np.where(dist.council.isnull(), 0, dist.council)\n",
    "dist.head()"
   ]
  },
  {
   "cell_type": "code",
   "execution_count": 18,
   "metadata": {},
   "outputs": [],
   "source": [
    "dist['tru_acres'] = dist.acres * dist.percent"
   ]
  },
  {
   "cell_type": "code",
   "execution_count": 19,
   "metadata": {},
   "outputs": [
    {
     "data": {
      "text/html": [
       "<div>\n",
       "<style scoped>\n",
       "    .dataframe tbody tr th:only-of-type {\n",
       "        vertical-align: middle;\n",
       "    }\n",
       "\n",
       "    .dataframe tbody tr th {\n",
       "        vertical-align: top;\n",
       "    }\n",
       "\n",
       "    .dataframe thead th {\n",
       "        text-align: right;\n",
       "    }\n",
       "</style>\n",
       "<table border=\"1\" class=\"dataframe\">\n",
       "  <thead>\n",
       "    <tr style=\"text-align: right;\">\n",
       "      <th></th>\n",
       "      <th>council</th>\n",
       "      <th>tract</th>\n",
       "      <th>acres</th>\n",
       "      <th>percent</th>\n",
       "      <th>tru_acres</th>\n",
       "    </tr>\n",
       "  </thead>\n",
       "  <tbody>\n",
       "    <tr>\n",
       "      <th>0</th>\n",
       "      <td>1.0</td>\n",
       "      <td>192000</td>\n",
       "      <td>279.510301</td>\n",
       "      <td>0.221309</td>\n",
       "      <td>61.858108</td>\n",
       "    </tr>\n",
       "    <tr>\n",
       "      <th>1</th>\n",
       "      <td>1.0</td>\n",
       "      <td>191900</td>\n",
       "      <td>0.040449</td>\n",
       "      <td>0.000049</td>\n",
       "      <td>0.000002</td>\n",
       "    </tr>\n",
       "    <tr>\n",
       "      <th>2</th>\n",
       "      <td>1.0</td>\n",
       "      <td>192300</td>\n",
       "      <td>283.763269</td>\n",
       "      <td>0.185373</td>\n",
       "      <td>52.602187</td>\n",
       "    </tr>\n",
       "    <tr>\n",
       "      <th>3</th>\n",
       "      <td>1.0</td>\n",
       "      <td>192100</td>\n",
       "      <td>419.237682</td>\n",
       "      <td>0.572719</td>\n",
       "      <td>240.105462</td>\n",
       "    </tr>\n",
       "    <tr>\n",
       "      <th>4</th>\n",
       "      <td>1.0</td>\n",
       "      <td>191304</td>\n",
       "      <td>550.822079</td>\n",
       "      <td>0.786238</td>\n",
       "      <td>433.077105</td>\n",
       "    </tr>\n",
       "    <tr>\n",
       "      <th>...</th>\n",
       "      <td>...</td>\n",
       "      <td>...</td>\n",
       "      <td>...</td>\n",
       "      <td>...</td>\n",
       "      <td>...</td>\n",
       "    </tr>\n",
       "    <tr>\n",
       "      <th>622</th>\n",
       "      <td>0.0</td>\n",
       "      <td>121506</td>\n",
       "      <td>633.041813</td>\n",
       "      <td>0.986636</td>\n",
       "      <td>624.581744</td>\n",
       "    </tr>\n",
       "    <tr>\n",
       "      <th>623</th>\n",
       "      <td>0.0</td>\n",
       "      <td>190400</td>\n",
       "      <td>0.599426</td>\n",
       "      <td>0.001164</td>\n",
       "      <td>0.000697</td>\n",
       "    </tr>\n",
       "    <tr>\n",
       "      <th>624</th>\n",
       "      <td>0.0</td>\n",
       "      <td>151900</td>\n",
       "      <td>4498.070742</td>\n",
       "      <td>0.460395</td>\n",
       "      <td>2070.889816</td>\n",
       "    </tr>\n",
       "    <tr>\n",
       "      <th>625</th>\n",
       "      <td>0.0</td>\n",
       "      <td>152100</td>\n",
       "      <td>23322.167683</td>\n",
       "      <td>0.843758</td>\n",
       "      <td>19678.265813</td>\n",
       "    </tr>\n",
       "    <tr>\n",
       "      <th>626</th>\n",
       "      <td>0.0</td>\n",
       "      <td>121508</td>\n",
       "      <td>508.726420</td>\n",
       "      <td>0.922147</td>\n",
       "      <td>469.120331</td>\n",
       "    </tr>\n",
       "  </tbody>\n",
       "</table>\n",
       "<p>627 rows × 5 columns</p>\n",
       "</div>"
      ],
      "text/plain": [
       "     council   tract         acres   percent     tru_acres\n",
       "0        1.0  192000    279.510301  0.221309     61.858108\n",
       "1        1.0  191900      0.040449  0.000049      0.000002\n",
       "2        1.0  192300    283.763269  0.185373     52.602187\n",
       "3        1.0  192100    419.237682  0.572719    240.105462\n",
       "4        1.0  191304    550.822079  0.786238    433.077105\n",
       "..       ...     ...           ...       ...           ...\n",
       "622      0.0  121506    633.041813  0.986636    624.581744\n",
       "623      0.0  190400      0.599426  0.001164      0.000697\n",
       "624      0.0  151900   4498.070742  0.460395   2070.889816\n",
       "625      0.0  152100  23322.167683  0.843758  19678.265813\n",
       "626      0.0  121508    508.726420  0.922147    469.120331\n",
       "\n",
       "[627 rows x 5 columns]"
      ]
     },
     "execution_count": 19,
     "metadata": {},
     "output_type": "execute_result"
    }
   ],
   "source": [
    "dist"
   ]
  },
  {
   "cell_type": "code",
   "execution_count": 20,
   "metadata": {},
   "outputs": [
    {
     "data": {
      "text/plain": [
       "council\n",
       "0.0     432830.494501\n",
       "1.0      16592.747829\n",
       "2.0      29717.152100\n",
       "3.0      34523.663183\n",
       "4.0      29276.757564\n",
       "5.0      14261.417765\n",
       "6.0      31416.709480\n",
       "7.0      17343.013463\n",
       "8.0      26455.457455\n",
       "9.0      25381.198816\n",
       "10.0     25723.522372\n",
       "Name: tru_acres, dtype: float64"
      ]
     },
     "execution_count": 20,
     "metadata": {},
     "output_type": "execute_result"
    }
   ],
   "source": [
    "dist.groupby('council').sum().tru_acres"
   ]
  },
  {
   "cell_type": "code",
   "execution_count": 27,
   "metadata": {},
   "outputs": [],
   "source": [
    "dist.groupby('council').sum().tru_acres.reset_index().to_excel('sa2020_district_acres.xlsx', index=False)"
   ]
  },
  {
   "cell_type": "code",
   "execution_count": null,
   "metadata": {},
   "outputs": [],
   "source": []
  },
  {
   "cell_type": "code",
   "execution_count": null,
   "metadata": {},
   "outputs": [],
   "source": []
  },
  {
   "cell_type": "code",
   "execution_count": null,
   "metadata": {},
   "outputs": [],
   "source": []
  }
 ],
 "metadata": {
  "kernelspec": {
   "display_name": "Python 3",
   "language": "python",
   "name": "python3"
  },
  "language_info": {
   "codemirror_mode": {
    "name": "ipython",
    "version": 3
   },
   "file_extension": ".py",
   "mimetype": "text/x-python",
   "name": "python",
   "nbconvert_exporter": "python",
   "pygments_lexer": "ipython3",
   "version": "3.7.3"
  },
  "toc": {
   "base_numbering": 1,
   "nav_menu": {},
   "number_sections": false,
   "sideBar": true,
   "skip_h1_title": true,
   "title_cell": "Table of Contents",
   "title_sidebar": "Contents",
   "toc_cell": false,
   "toc_position": {},
   "toc_section_display": true,
   "toc_window_display": false
  }
 },
 "nbformat": 4,
 "nbformat_minor": 2
}
